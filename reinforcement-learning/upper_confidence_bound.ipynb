{
  "nbformat": 4,
  "nbformat_minor": 0,
  "metadata": {
    "colab": {
      "name": "upper_confidence_bound.ipynb",
      "provenance": [],
      "collapsed_sections": [],
      "toc_visible": true
    },
    "kernelspec": {
      "name": "python3",
      "display_name": "Python 3"
    }
  },
  "cells": [
    {
      "cell_type": "markdown",
      "metadata": {
        "id": "QJdrJJQUv3-k",
        "colab_type": "text"
      },
      "source": [
        "# Upper Confidence Bound (UCB)"
      ]
    },
    {
      "cell_type": "markdown",
      "metadata": {
        "id": "2XCjepjJwEv-",
        "colab_type": "text"
      },
      "source": [
        "## Importing the libraries"
      ]
    },
    {
      "cell_type": "code",
      "metadata": {
        "id": "czkfZUXwL_E6",
        "colab_type": "code",
        "colab": {}
      },
      "source": [
        "import pandas as pd\n",
        "import matplotlib.pyplot as plt\n",
        "import numpy as np\n"
      ],
      "execution_count": null,
      "outputs": []
    },
    {
      "cell_type": "markdown",
      "metadata": {
        "id": "npqlXjaNwYTv",
        "colab_type": "text"
      },
      "source": [
        "## Importing the dataset"
      ]
    },
    {
      "cell_type": "code",
      "metadata": {
        "id": "pMo35QpyMGwD",
        "colab_type": "code",
        "colab": {}
      },
      "source": [
        "dataset=pd.read_csv('Ads_CTR_Optimisation.csv')"
      ],
      "execution_count": null,
      "outputs": []
    },
    {
      "cell_type": "markdown",
      "metadata": {
        "id": "PaSbots_wfoB",
        "colab_type": "text"
      },
      "source": [
        "## Implementing UCB"
      ]
    },
    {
      "cell_type": "code",
      "metadata": {
        "id": "y__KlkGQMZSI",
        "colab_type": "code",
        "colab": {
          "base_uri": "https://localhost:8080/",
          "height": 87
        },
        "outputId": "1c80ce68-1fcd-4c46-a6b7-624bb5562654"
      },
      "source": [
        "import math\n",
        "N=20\n",
        "d=10\n",
        "ads_selected=[]\n",
        "selection_of_ads=[0]*d\n",
        "sums_of_rewards=[0]*d\n",
        "total_rewards=0\n",
        "for n in range(0,N):\n",
        "  ad=0\n",
        "  max_upper_bound=0\n",
        "  for i in range(0,d):\n",
        "    if(selection_of_ads[i]>0):\n",
        "      average_ads=sums_of_rewards[i]/selection_of_ads[i]\n",
        "      delta_i=math.sqrt((3/2 * math.log(n+1))/selection_of_ads[i])\n",
        "      upper_bound=average_ads+delta_i\n",
        "    else:\n",
        "      upper_bound=1e400\n",
        "    if(upper_bound>max_upper_bound):\n",
        "      max_upper_bound=upper_bound\n",
        "      ad=i\n",
        "  ads_selected.append(ad)\n",
        "  selection_of_ads[ad]+=1\n",
        "  rewards=dataset.values[n,ad]\n",
        "  total_rewards+=rewards\n",
        "  sums_of_rewards[ad]+=rewards\n",
        "print(max_upper_bound)\n",
        "print(total_rewards)\n",
        "print(selection_of_ads)\n",
        "print(sums_of_rewards)\n"
      ],
      "execution_count": null,
      "outputs": [
        {
          "output_type": "stream",
          "text": [
            "2.119810937402434\n",
            "1\n",
            "[2, 2, 2, 2, 2, 2, 2, 2, 2, 2]\n",
            "[1, 0, 0, 0, 0, 0, 0, 0, 0, 0]\n"
          ],
          "name": "stdout"
        }
      ]
    },
    {
      "cell_type": "code",
      "metadata": {
        "id": "vMvKOeKoO5OU",
        "colab_type": "code",
        "colab": {
          "base_uri": "https://localhost:8080/",
          "height": 35
        },
        "outputId": "c2817c8b-1021-4150-a5f1-d3a480996ecf"
      },
      "source": [
        "print(ads_selected)"
      ],
      "execution_count": null,
      "outputs": [
        {
          "output_type": "stream",
          "text": [
            "[0, 1, 2, 3, 4, 5, 6, 7, 8, 9, 0, 1, 2, 3, 4, 5, 6, 7, 8, 9]\n"
          ],
          "name": "stdout"
        }
      ]
    },
    {
      "cell_type": "markdown",
      "metadata": {
        "id": "AXftWcjDwsYj",
        "colab_type": "text"
      },
      "source": [
        "## Visualising the results"
      ]
    },
    {
      "cell_type": "code",
      "metadata": {
        "id": "KmyNmGnWO-Ks",
        "colab_type": "code",
        "colab": {
          "base_uri": "https://localhost:8080/",
          "height": 265
        },
        "outputId": "2966b8ba-9b06-4f35-8f56-0c3a10809507"
      },
      "source": [
        "plt.hist(ads_selected)\n",
        "plt.show()"
      ],
      "execution_count": null,
      "outputs": [
        {
          "output_type": "display_data",
          "data": {
            "image/png": "[encoded data removed]",
            "text/plain": [
              "<Figure size 432x288 with 1 Axes>"
            ]
          },
          "metadata": {
            "tags": [],
            "needs_background": "light"
          }
        }
      ]
    }
  ]
}